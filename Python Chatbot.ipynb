{
 "cells": [
  {
   "cell_type": "code",
   "execution_count": 1,
   "id": "6fd7b741",
   "metadata": {
    "scrolled": true
   },
   "outputs": [],
   "source": [
    "# Simple Customer Support Chatbot\n",
    "\n"
   ]
  },
  {
   "cell_type": "code",
   "execution_count": 5,
   "id": "98d94135",
   "metadata": {},
   "outputs": [
    {
     "name": "stdout",
     "output_type": "stream",
     "text": [
      "Collecting rapidfuzz\n",
      "  Downloading rapidfuzz-3.13.0-cp310-cp310-manylinux_2_17_x86_64.manylinux2014_x86_64.whl (3.1 MB)\n",
      "\u001b[2K     \u001b[90m━━━━━━━━━━━━━━━━━━━━━━━━━━━━━━━━━━━━━━━━\u001b[0m \u001b[32m3.1/3.1 MB\u001b[0m \u001b[31m27.3 MB/s\u001b[0m eta \u001b[36m0:00:00\u001b[0m00:01\u001b[0m00:01\u001b[0m\n",
      "\u001b[?25hInstalling collected packages: rapidfuzz\n",
      "Successfully installed rapidfuzz-3.13.0\n",
      "\n",
      "\u001b[1m[\u001b[0m\u001b[34;49mnotice\u001b[0m\u001b[1;39;49m]\u001b[0m\u001b[39;49m A new release of pip is available: \u001b[0m\u001b[31;49m23.0.1\u001b[0m\u001b[39;49m -> \u001b[0m\u001b[32;49m25.1.1\u001b[0m\n",
      "\u001b[1m[\u001b[0m\u001b[34;49mnotice\u001b[0m\u001b[1;39;49m]\u001b[0m\u001b[39;49m To update, run: \u001b[0m\u001b[32;49mpip install --upgrade pip\u001b[0m\n",
      "Note: you may need to restart the kernel to use updated packages.\n"
     ]
    }
   ],
   "source": [
    "pip install rapidfuzz\n"
   ]
  },
  {
   "cell_type": "code",
   "execution_count": 2,
   "id": "33d86823",
   "metadata": {},
   "outputs": [
    {
     "name": "stdout",
     "output_type": "stream",
     "text": [
      "You: hi bot\n",
      "Bot: Hello! Welcome to TechGadget Support. How can I assist you today?\n",
      "You: smartwatches?\n",
      "Bot: Yes, we have a variety of smartwatches. You can check them out on our products page.\n",
      "You: how long is the shipping time?\n",
      "Bot: Hello! Welcome to TechGadget Support. How can I assist you today?\n",
      "You: shipping time\n",
      "Bot: Shipping usually takes 3-5 business days.\n",
      "You: shipping methods?\n",
      "Bot: Hello! Welcome to TechGadget Support. How can I assist you today?\n",
      "You: Shipping methods\n",
      "Bot: We offer standard, expedited, and overnight shipping.\n",
      "You: shuppung methods?\n",
      "Bot: We offer standard, expedited, and overnight shipping.\n",
      "You: how to reset device?\n",
      "Bot: To reset your device, hold down the power button for 10 seconds. If that doesn't work, please check the manual for a factory reset.\n",
      "You: exit\n",
      "Bot: Goodbye! If you have any more questions, we're here to help.\n"
     ]
    }
   ],
   "source": [
    "\n",
    "from rapidfuzz import fuzz\n",
    "\n",
    "responses = {\n",
    "    \"hi\": \"Hello! Welcome to TechGadget Support. How can I assist you today?\",\n",
    "    \"do you have smartwatches\": \"Yes, we have a variety of smartwatches. You can check them out on our products page.\",\n",
    "    \"shipping time\": \"Shipping usually takes 3-5 business days.\",\n",
    "    \"shipping methods\": \"We offer standard, expedited, and overnight shipping.\",\n",
    "    \"return policy\": \"You can return products within 30 days of receipt for a full refund.\",\n",
    "    \"how to return\": \"To return a product, please visit our returns page for a step-by-step guide.\",\n",
    "    \"won’t turn on\": \"Make sure your gadget is charged. If it still won’t turn on, you can visit our troubleshooting page.\",\n",
    "    \"reset device\": \"To reset your device, hold down the power button for 10 seconds. If that doesn't work, please check the manual for a factory reset.\",\n",
    "    \"bye\": \"Thank you for visiting TechGadget. If you have more questions, feel free to ask. Goodbye!\"\n",
    "}\n",
    "\n",
    "def get_bot_response(user_input):\n",
    "    user_input = user_input.lower().strip()\n",
    "    \n",
    "    # Step 1: Exact match\n",
    "    if user_input in responses:\n",
    "        return responses[user_input]\n",
    "\n",
    "    # Step 2: Fuzzy match\n",
    "    best_match = None\n",
    "    highest_score = 0\n",
    "\n",
    "    for keyword, response in responses.items():\n",
    "        score = fuzz.partial_ratio(user_input, keyword)\n",
    "        if score > highest_score:\n",
    "            highest_score = score\n",
    "            best_match = response\n",
    "\n",
    "    if highest_score > 70:  # Threshold for fuzzy match\n",
    "        return best_match\n",
    "\n",
    "    # Step 3: Fallback\n",
    "    return \"I'm not sure how to respond to that. Can you try asking something else?\"\n",
    "\n",
    "\n",
    "\n",
    "while True:\n",
    "      user_input = input(\"You: \")\n",
    "      if user_input.lower() in [\"quit\", \"exit\", \"bye\"]:\n",
    "          print(\"Bot: Goodbye! If you have any more questions, we're here to help.\")\n",
    "          break\n",
    "\n",
    "      response = get_bot_response(user_input)\n",
    "      print(f\"Bot: {response}\")"
   ]
  },
  {
   "cell_type": "code",
   "execution_count": null,
   "id": "e3ff1660",
   "metadata": {},
   "outputs": [],
   "source": []
  }
 ],
 "metadata": {
  "kernelspec": {
   "display_name": "Python 3",
   "language": "python",
   "name": "python3"
  },
  "language_info": {
   "codemirror_mode": {
    "name": "ipython",
    "version": 3
   },
   "file_extension": ".py",
   "mimetype": "text/x-python",
   "name": "python",
   "nbconvert_exporter": "python",
   "pygments_lexer": "ipython3",
   "version": "3.11.9"
  }
 },
 "nbformat": 4,
 "nbformat_minor": 5
}
